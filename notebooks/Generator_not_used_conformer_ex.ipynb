{
 "cells": [
  {
   "cell_type": "code",
   "execution_count": 1,
   "id": "a9932f59",
   "metadata": {},
   "outputs": [],
   "source": [
    "import torch\n",
    "import torch.nn as nn\n",
    "from torchsummary import summary\n",
    "import librosa\n",
    "\n",
    "import math\n",
    "import sys\n",
    "import time\n",
    "from pathlib import Path\n",
    "from IPython.display import Audio"
   ]
  },
  {
   "cell_type": "code",
   "execution_count": 5,
   "id": "035f793e",
   "metadata": {},
   "outputs": [],
   "source": [
    "class Generator(nn.Module):\n",
    "    def __init__(self, model_size=32, z_dim=100):\n",
    "        super().__init__()\n",
    "        self.model_size = model_size\n",
    "\n",
    "        self.full_connection_1 = nn.Linear(z_dim, 512*model_size)\n",
    "\n",
    "        self.layer_1 = nn.Sequential(\n",
    "            nn.ConvTranspose1d(in_channels=32*model_size,\n",
    "                               out_channels=16*model_size,\n",
    "                               kernel_size=25,\n",
    "                               stride=4,\n",
    "                               padding=11,\n",
    "                               output_padding=1),\n",
    "            nn.ReLU(inplace=True))\n",
    "        self.layer_2 = nn.Sequential(\n",
    "            nn.ConvTranspose1d(in_channels=16*model_size,\n",
    "                               out_channels=8*model_size,\n",
    "                               kernel_size=25,\n",
    "                               stride=4,\n",
    "                               padding=11,\n",
    "                               output_padding=1),\n",
    "            nn.ReLU(inplace=True))\n",
    "        self.layer_3 = nn.Sequential(\n",
    "            nn.ConvTranspose1d(in_channels=8*model_size,\n",
    "                               out_channels=4*model_size,\n",
    "                               kernel_size=25,\n",
    "                               stride=4,\n",
    "                               padding=11,\n",
    "                               output_padding=1),\n",
    "            nn.ReLU(inplace=True))\n",
    "        self.layer_4 = nn.Sequential(\n",
    "            nn.ConvTranspose1d(in_channels=4*model_size,\n",
    "                               out_channels=2*model_size,\n",
    "                               kernel_size=25,\n",
    "                               stride=4,\n",
    "                               padding=11,\n",
    "                               output_padding=1),\n",
    "            nn.ReLU(inplace=True))\n",
    "        self.layer_5 = nn.Sequential(\n",
    "            nn.ConvTranspose1d(in_channels=2*model_size,\n",
    "                               out_channels=model_size,\n",
    "                               kernel_size=25,\n",
    "                               stride=4,\n",
    "                               padding=11,\n",
    "                               output_padding=1),\n",
    "            nn.ReLU(inplace=True))\n",
    "        self.layer_6 = nn.Sequential(\n",
    "            nn.ConvTranspose1d(in_channels=model_size,\n",
    "                               out_channels=1,\n",
    "                               kernel_size=25,\n",
    "                               stride=4,\n",
    "                               padding=11,\n",
    "                               output_padding=1),\n",
    "            nn.Tanh())\n",
    "\n",
    "    def forward(self, x):\n",
    "        x = self.full_connection_1(x).view(-1, 32*self.model_size, 16)\n",
    "        x = torch.nn.functional.relu(x)\n",
    "        x = self.layer_1(x)\n",
    "        x = self.layer_2(x)\n",
    "        x = self.layer_3(x)\n",
    "        x = self.layer_4(x)\n",
    "        x = self.layer_5(x)\n",
    "        output = self.layer_6(x)\n",
    "        return output"
   ]
  },
  {
   "cell_type": "code",
   "execution_count": 6,
   "id": "c8389a56",
   "metadata": {},
   "outputs": [],
   "source": [
    "model = Generator()"
   ]
  },
  {
   "cell_type": "code",
   "execution_count": 7,
   "id": "998f023d",
   "metadata": {},
   "outputs": [
    {
     "name": "stdout",
     "output_type": "stream",
     "text": [
      "----------------------------------------------------------------\n",
      "        Layer (type)               Output Shape         Param #\n",
      "================================================================\n",
      "            Linear-1                [-1, 16384]       1,654,784\n",
      "   ConvTranspose1d-2              [-1, 512, 64]      13,107,712\n",
      "              ReLU-3              [-1, 512, 64]               0\n",
      "   ConvTranspose1d-4             [-1, 256, 256]       3,277,056\n",
      "              ReLU-5             [-1, 256, 256]               0\n",
      "   ConvTranspose1d-6            [-1, 128, 1024]         819,328\n",
      "              ReLU-7            [-1, 128, 1024]               0\n",
      "   ConvTranspose1d-8             [-1, 64, 4096]         204,864\n",
      "              ReLU-9             [-1, 64, 4096]               0\n",
      "  ConvTranspose1d-10            [-1, 32, 16384]          51,232\n",
      "             ReLU-11            [-1, 32, 16384]               0\n",
      "  ConvTranspose1d-12             [-1, 1, 65536]             801\n",
      "             Tanh-13             [-1, 1, 65536]               0\n",
      "================================================================\n",
      "Total params: 19,115,777\n",
      "Trainable params: 19,115,777\n",
      "Non-trainable params: 0\n",
      "----------------------------------------------------------------\n",
      "Input size (MB): 0.00\n",
      "Forward/backward pass size (MB): 16.62\n",
      "Params size (MB): 72.92\n",
      "Estimated Total Size (MB): 89.55\n",
      "----------------------------------------------------------------\n"
     ]
    }
   ],
   "source": [
    "summary(model, (100, ))"
   ]
  },
  {
   "cell_type": "code",
   "execution_count": null,
   "id": "7ee34b9a",
   "metadata": {},
   "outputs": [],
   "source": []
  }
 ],
 "metadata": {
  "kernelspec": {
   "display_name": "ConformerGAN",
   "language": "python",
   "name": "conformergan"
  },
  "language_info": {
   "codemirror_mode": {
    "name": "ipython",
    "version": 3
   },
   "file_extension": ".py",
   "mimetype": "text/x-python",
   "name": "python",
   "nbconvert_exporter": "python",
   "pygments_lexer": "ipython3",
   "version": "3.8.8"
  }
 },
 "nbformat": 4,
 "nbformat_minor": 5
}
